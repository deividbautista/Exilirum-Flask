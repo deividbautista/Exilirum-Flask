{
 "cells": [
  {
   "attachments": {},
   "cell_type": "markdown",
   "metadata": {},
   "source": [
    "# Primer proyecto con framework flask\n",
    "\n",
    "## Requisitos\n",
    "\n",
    "* Tener instalado python 3.6 o superior en el equipo [Descargar python](https://www.python.org/downloads/)\n",
    "\n",
    "* Tener instalado pip en el equipo [Descargar pip](https://pip.pypa.io/en/stable/installing/)\n",
    "\n",
    "* Comprobar la intalación de python y pip con el comando `python --version` y `pip --version`\n",
    "\n",
    "![](img/python%20and%20pip%20version.png)\n",
    "\n",
    "\n",
    "## Instalación de flask\n",
    "\n",
    "* Crear un entorno virtual con el comando `python -m venv venv` en la carpeta del proyecto\n",
    "* Iniciar el entorno virtual con el comando `venv\\Scripts\\activate`\n",
    "* Comprobar que el entorno virtual se ha iniciado correctamente con el comando `pip freeze`\n",
    "* Instalar flask con el comando `pip install flask`\n",
    "* Intalamos la libreria de mysql con el comando `pip install flask-mysqldb`\n",
    "\n",
    "![](img/Commands.png)\n",
    "\n",
    "* El comando ``pip list` nos muestra las librerías instaladas en el entorno virtual\n",
    "\n",
    "![](img/List.png)\n",
    "\n",
    "## Creación de la aplicación\n",
    "\n",
    "* El archivo `app.py` es el archivo principal de la aplicación\n",
    "\n",
    "### Algunos comandos\n",
    "\n",
    "* `flask run` ejecuta la aplicación\n",
    "* `pip freeze > requirements.txt` crea un archivo con las dependencias de la aplicación\n",
    "\n",
    "Correr archivo python:\n",
    "    python .\\app\\app.py"
   ]
  },
  {
   "attachments": {},
   "cell_type": "markdown",
   "metadata": {},
   "source": [
    "## Webs de interés\n",
    "\n",
    "* [Flask](https://flask.palletsprojects.com/en/1.1.x/)\n",
    "* [Flask-mysqldb](https://flask-mysqldb.readthedocs.io/en/latest/)\n",
    "* [Python](https://www.python.org/)\n",
    "* [Pip](https://pip.pypa.io/en/stable/)\n",
    "* [pypi](https://pypi.org/)\n",
    "* [HyperUI](https://hyperui.dev/)\n",
    "* [Wickedblocks](https://wickedblocks.com/)\n",
    "* [Flowbite](https://flowbite.com/)\n",
    "* [Kutty](https://kutty.netlify.app/)\n",
    "* [Tailblocks](https://mertjf.github.io/tailblocks/)"
   ]
  }
 ],
 "metadata": {
  "kernelspec": {
   "display_name": "venv",
   "language": "python",
   "name": "python3"
  },
  "language_info": {
   "name": "python",
   "version": "3.11.3"
  },
  "orig_nbformat": 4
 },
 "nbformat": 4,
 "nbformat_minor": 2
}
