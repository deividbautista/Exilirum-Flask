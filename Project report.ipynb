{
 "cells": [
  {
   "attachments": {},
   "cell_type": "markdown",
   "metadata": {},
   "source": [
    "# Primer proyecto con framework flask\n",
    "* El archivo `app.py` es el archivo principal de la aplicación\n",
    "\n",
    "### Algunos comandos\n",
    "* `flask run` ejecuta la aplicación\n",
    "* `pip freeze > requirements.txt` crea un archivo con las dependencias de la aplicación\n",
    "\n",
    "```sh\n",
    "# Correr archivo python:\n",
    "python .\\app\\app.py\n",
    "```"
   ]
  },
  {
   "attachments": {},
   "cell_type": "markdown",
   "metadata": {},
   "source": [
    "## Webs de interés\n",
    "* [Flask](https://flask.palletsprojects.com/en/1.1.x/)\n",
    "* [pypi](https://pypi.org/)\n",
    "* [HyperUI](https://hyperui.dev/)\n",
    "* [Wickedblocks](https://wickedblocks.com/)\n",
    "* [Flowbite](https://flowbite.com/)\n",
    "* [Kutty](https://kutty.netlify.app/)\n",
    "* [Tailblocks](https://mertjf.github.io/tailblocks/)"
   ]
  }
 ],
 "metadata": {
  "kernelspec": {
   "display_name": "venv",
   "language": "python",
   "name": "python3"
  },
  "language_info": {
   "name": "python",
   "version": "3.11.3"
  },
  "orig_nbformat": 4
 },
 "nbformat": 4,
 "nbformat_minor": 2
}
